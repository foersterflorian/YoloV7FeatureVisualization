{
 "cells": [
  {
   "cell_type": "markdown",
   "id": "91c73b2e-7459-4784-bdb5-c83376205a9c",
   "metadata": {},
   "source": [
    "# **NumPy Multiprocessing**\n",
    "## Calculate Batches in diferent processes"
   ]
  },
  {
   "cell_type": "code",
   "execution_count": null,
   "id": "7dfea19b-a668-44d9-b0d2-da3ba2d6fde0",
   "metadata": {},
   "outputs": [],
   "source": []
  },
  {
   "cell_type": "code",
   "execution_count": null,
   "id": "d5fc1ef6-869e-4398-9884-6c4bf5a7439e",
   "metadata": {},
   "outputs": [],
   "source": []
  },
  {
   "cell_type": "code",
   "execution_count": 4,
   "id": "f5a48d44-845a-44c6-973b-13ed1439c4ed",
   "metadata": {},
   "outputs": [],
   "source": [
    "def calc_grayscale(layer_map, norm_val):\n",
    "    \"\"\"\n",
    "    Calculates normalized matrices in a list of 2D arrays and maps them to grayscale\n",
    "    Input: NumPy array with 3 dimensions (num_pic, width, height)\n",
    "    Output: modified NumPy array with same 3 dimensions\n",
    "    \"\"\"\n",
    "\n",
    "    for i in range(layer_map.shape[0]):\n",
    "        #img = test_map[i,:,:]\n",
    "        img = layer_map[i]\n",
    "        #print(\"TEST\")\n",
    "        v_min = np.asarray([img.min()], dtype=np.float32)\n",
    "        v_max = np.asarray([img.max()], dtype=np.float32)\n",
    "        img -= v_min\n",
    "        img /= (v_max - v_min)\n",
    "        img *= norm_val\n",
    "\n",
    "    return layer_map\n",
    "\n",
    "\n",
    "def calc_grayscale_dataset(data_dict, layer_nums=[]):\n",
    "    \"\"\"\n",
    "    For whole data set as PyTorch Yolo tensor:\n",
    "    Calculates normalized matrices in a list of 2D arrays and maps them to grayscale\n",
    "    \n",
    "    Input: User-defined tensor collection library added to the Yolo Model as attribute\n",
    "    Output: Dictionary with layer number as key and corresponding normalized feature maps\n",
    "    \"\"\"\n",
    "    \n",
    "    ret_dict = {}\n",
    "    norm_val = np.asarray([255], dtype=np.float32)\n",
    "\n",
    "    if layer_nums:\n",
    "        keys = layer_nums\n",
    "    else:\n",
    "        keys = data_dict.keys()\n",
    "\n",
    "    for key in keys:\n",
    "        # get PyTorch Yolo tensor with 3 dimensions (num_pics, width, height)\n",
    "        # transform to NumPy array\n",
    "        ret_dict[key] = calc_grayscale(data_dict[key][0][0].detach().numpy(), norm_val)\n",
    "    \n",
    "    return ret_dict"
   ]
  },
  {
   "cell_type": "code",
   "execution_count": 10,
   "id": "ca46bdc9-6842-4667-b0fa-488fbc7f15e6",
   "metadata": {},
   "outputs": [],
   "source": [
    "def calc_grayscale(layer_map, norm_val, n_img_max=64):\n",
    "    \"\"\"\n",
    "    Calculates normalized matrices in a list of 2D arrays and maps them to grayscale\n",
    "    Input: NumPy array with 3 dimensions (num_pic, width, height)\n",
    "    Output: modified NumPy array with same 3 dimensions\n",
    "    \"\"\"\n",
    "    \n",
    "    if layer_map.shape[0] <= 64:\n",
    "        n = layer_map.shape[0]\n",
    "    else:\n",
    "        n = n_img_max\n",
    "    \n",
    "    for i in range(n):\n",
    "        #img = test_map[i,:,:]\n",
    "        img = layer_map[i]\n",
    "        #print(\"TEST\")\n",
    "        v_min = np.asarray([img.min()], dtype=np.float32)\n",
    "        v_max = np.asarray([img.max()], dtype=np.float32)\n",
    "        img -= v_min\n",
    "        img /= (v_max - v_min)\n",
    "        img *= norm_val\n",
    "\n",
    "    return layer_map\n",
    "\n",
    "\n",
    "def calc_grayscale_dataset(data_dict, layer_nums=[]):\n",
    "    \"\"\"\n",
    "    For whole data set as PyTorch Yolo tensor:\n",
    "    Calculates normalized matrices in a list of 2D arrays and maps them to grayscale\n",
    "    \n",
    "    Input: User-defined tensor collection library added to the Yolo Model as attribute\n",
    "    Output: Dictionary with layer number as key and corresponding normalized feature maps\n",
    "    \"\"\"\n",
    "    \n",
    "    ret_dict = {}\n",
    "    norm_val = np.asarray([255], dtype=np.float32)\n",
    "\n",
    "    if layer_nums:\n",
    "        keys = layer_nums\n",
    "    else:\n",
    "        keys = data_dict.keys()\n",
    "\n",
    "    for key in keys:\n",
    "        # get PyTorch Yolo tensor with 3 dimensions (num_pics, width, height)\n",
    "        # transform to NumPy array\n",
    "        ret_dict[key] = calc_grayscale(data_dict[key][0][0].detach().numpy(), norm_val)\n",
    "    \n",
    "    return ret_dict"
   ]
  },
  {
   "cell_type": "code",
   "execution_count": 15,
   "id": "941868b3-4c77-45f1-a1d2-6b4ba077dfc6",
   "metadata": {},
   "outputs": [],
   "source": [
    "layer_nums = [0,1,30,60,90,104]\n",
    "#layer_nums = [0,1]"
   ]
  },
  {
   "cell_type": "code",
   "execution_count": 16,
   "id": "fa2e5570-bccc-4ebf-8be1-de23e745c65b",
   "metadata": {},
   "outputs": [
    {
     "name": "stdout",
     "output_type": "stream",
     "text": [
      "46.5 ms ± 617 µs per loop (mean ± std. dev. of 7 runs, 10 loops each)\n"
     ]
    }
   ],
   "source": [
    "%%timeit\n",
    "ret = calc_grayscale_dataset(tensor_collection, layer_nums=layer_nums)"
   ]
  },
  {
   "cell_type": "code",
   "execution_count": 17,
   "id": "6f9a06c6-37d4-4e32-9e8b-265faf54e1eb",
   "metadata": {},
   "outputs": [],
   "source": [
    "string = '123'\n",
    "int_string = eval(string)"
   ]
  },
  {
   "cell_type": "code",
   "execution_count": 18,
   "id": "6a7be732-3875-446c-9e4a-39b3896702d6",
   "metadata": {},
   "outputs": [
    {
     "data": {
      "text/plain": [
       "True"
      ]
     },
     "execution_count": 18,
     "metadata": {},
     "output_type": "execute_result"
    }
   ],
   "source": [
    "isinstance(int_string, int)"
   ]
  },
  {
   "cell_type": "code",
   "execution_count": 11,
   "id": "af09c4c2-7b6a-4318-b146-3e4febeecead",
   "metadata": {},
   "outputs": [
    {
     "name": "stdout",
     "output_type": "stream",
     "text": [
      "16.9 ms ± 89.3 µs per loop (mean ± std. dev. of 7 runs, 100 loops each)\n"
     ]
    }
   ],
   "source": [
    "%%timeit\n",
    "ret = calc_grayscale_dataset(tensor_collection, layer_nums=layer_nums)"
   ]
  },
  {
   "cell_type": "code",
   "execution_count": 17,
   "id": "e7bdea20-72e1-4382-b637-59727c8a6a7d",
   "metadata": {},
   "outputs": [
    {
     "data": {
      "text/plain": [
       "(256, 28, 40)"
      ]
     },
     "execution_count": 17,
     "metadata": {},
     "output_type": "execute_result"
    }
   ],
   "source": [
    "ret[30].shape"
   ]
  },
  {
   "cell_type": "code",
   "execution_count": null,
   "id": "787a3e65-d072-4bf1-9a99-025b65ee041b",
   "metadata": {},
   "outputs": [],
   "source": [
    "def calc_grayscale_multi(layer_map):\n",
    "    \"\"\"\n",
    "    Calculates normalized matrices in a list of 2D arrays and maps them to grayscale\n",
    "    Input: NumPy array with 3 dimensions (num_pic, width, height)\n",
    "    Output: modified NumPy array with same 3 dimensions\n",
    "    \"\"\"\n",
    "    norm_val = np.asarray([255], dtype=np.float32)\n",
    "    for i in range(layer_map.shape[0]):\n",
    "        #img = test_map[i,:,:]\n",
    "        img = layer_map[i]\n",
    "        #print(\"TEST\")\n",
    "        v_min = np.asarray([img.min()], dtype=np.float32)\n",
    "        v_max = np.asarray([img.max()], dtype=np.float32)\n",
    "        img -= v_min\n",
    "        img /= (v_max - v_min)\n",
    "        img *= norm_val\n",
    "\n",
    "    return layer_map"
   ]
  },
  {
   "cell_type": "code",
   "execution_count": 29,
   "id": "0b7e0a58-a7c8-4c5b-b969-731c7725deec",
   "metadata": {},
   "outputs": [
    {
     "data": {
      "text/plain": [
       "torch.Size([32, 448, 640])"
      ]
     },
     "execution_count": 29,
     "metadata": {},
     "output_type": "execute_result"
    }
   ],
   "source": [
    "tensor_collection[0][0][0].size()"
   ]
  },
  {
   "cell_type": "code",
   "execution_count": 1,
   "id": "d8f5c79f-fec6-4583-a1bd-7d4a0b19ead3",
   "metadata": {},
   "outputs": [],
   "source": [
    "import numpy as np\n",
    "import pickle\n",
    "import matplotlib.pyplot as plt\n",
    "import multiprocess as multiprocessing"
   ]
  },
  {
   "cell_type": "code",
   "execution_count": 2,
   "id": "91cb73d7-9bda-49b1-9c00-2fe4ee05c784",
   "metadata": {},
   "outputs": [],
   "source": [
    "# save pickle\n",
    "def save_pickle(filename, obj):\n",
    "    with open(str(filename), 'wb') as f:\n",
    "        pickle.dump(obj, f)\n",
    "    print(\"Object saved\")\n",
    "        \n",
    "# load pickle\n",
    "def load_pickle(filename):\n",
    "    with open(str(filename), 'rb') as f:\n",
    "        obj = pickle.load(f)\n",
    "    print(\"Object loaded\")\n",
    "    return obj"
   ]
  },
  {
   "cell_type": "code",
   "execution_count": 3,
   "id": "d6928267-cdf2-4a20-afc4-a1b2eb7cb7d1",
   "metadata": {},
   "outputs": [
    {
     "name": "stdout",
     "output_type": "stream",
     "text": [
      "Object loaded\n"
     ]
    }
   ],
   "source": [
    "tensor_collection = load_pickle('tensor_collection.pkl')"
   ]
  },
  {
   "cell_type": "code",
   "execution_count": 43,
   "id": "5d985dfe-3670-4d98-b94e-4fcfac3adb3a",
   "metadata": {},
   "outputs": [],
   "source": [
    "layer_nums = [0,1,30,60]\n",
    "import numpy as np\n",
    "def worker(procnum, send_end):\n",
    "    '''worker function'''\n",
    "    result = str(procnum) + ' represent!'\n",
    "    print(result)\n",
    "    send_end.send(result)\n",
    "    \n",
    "def calc_grayscale_multi(layer_num, layer_map, send_end):\n",
    "    \"\"\"\n",
    "    Calculates normalized matrices in a list of 2D arrays and maps them to grayscale\n",
    "    Input: NumPy array with 3 dimensions (num_pic, width, height)\n",
    "    Output: modified NumPy array with same 3 dimensions\n",
    "    \"\"\"\n",
    "    import numpy as np\n",
    "    norm_val = np.asarray([255], dtype=np.float32)\n",
    "    ret_dict = {}\n",
    "    for i in range(layer_map.shape[0]):\n",
    "        #img = test_map[i,:,:]\n",
    "        img = layer_map[i]\n",
    "        #print(\"TEST\")\n",
    "        v_min = np.asarray([img.min()], dtype=np.float32)\n",
    "        v_max = np.asarray([img.max()], dtype=np.float32)\n",
    "        img -= v_min\n",
    "        img /= (v_max - v_min)\n",
    "        img *= norm_val\n",
    "\n",
    "    #return layer_map\n",
    "    ret_dict[layer_num] = layer_map\n",
    "    #print(f\"Layer Num = {layer_num} \\t Type = {type(layer_map)} \\n Layer maxVal = {layer_map.max()}, Layer minVal = {layer_map.min()} with \\n Layer Map = {layer_map}\")\n",
    "    \n",
    "    send_end.send(ret_dict)\n",
    "\n",
    "    \n",
    "### BATCH\n",
    "def calc_grayscale_multi_batch(layer_nums_batch, img_dict, send_end):\n",
    "    \"\"\"\n",
    "    layer_nums --> batch of layer numbers\n",
    "    img_dict --> tensor collection\n",
    "    \n",
    "    Calculates normalized matrices in a list of 2D arrays and maps them to grayscale\n",
    "    Input: NumPy array with 3 dimensions (num_pic, width, height)\n",
    "    Output: modified NumPy array with same 3 dimensions\n",
    "    \"\"\"\n",
    "    import numpy as np\n",
    "    norm_val = np.asarray([255], dtype=np.float32)\n",
    "    ret_dict = {}\n",
    "    \n",
    "    for layer_num in layer_nums_batch:\n",
    "        layer_map = img_dict[layer_num][0][0].detach().numpy()\n",
    "        \n",
    "        for i in range(layer_map.shape[0]):\n",
    "            #img = test_map[i,:,:]\n",
    "            img = layer_map[i]\n",
    "            #print(\"TEST\")\n",
    "            v_min = np.asarray([img.min()], dtype=np.float32)\n",
    "            v_max = np.asarray([img.max()], dtype=np.float32)\n",
    "            img -= v_min\n",
    "            img /= (v_max - v_min)\n",
    "            img *= norm_val\n",
    "\n",
    "    #return layer_map\n",
    "        ret_dict[layer_num] = layer_map\n",
    "    #print(f\"Layer Num = {layer_num} \\t Type = {type(layer_map)} \\n Layer maxVal = {layer_map.max()}, Layer minVal = {layer_map.min()} with \\n Layer Map = {layer_map}\")\n",
    "    \n",
    "    send_end.send(ret_dict)\n",
    "\n",
    "def main(tensor_collection, layer_nums, num_batches=3):\n",
    "    jobs = []\n",
    "    pipe_list = []\n",
    "    batches = np.array_split(layer_nums, num_batches)\n",
    "    \n",
    "    for batch in batches:\n",
    "        recv_end, send_end = multiprocessing.Pipe(False)\n",
    "        p = multiprocessing.Process(target=calc_grayscale_multi_batch, args=(batch, tensor_collection, send_end))\n",
    "        jobs.append(p)\n",
    "        pipe_list.append(recv_end)\n",
    "        p.start()\n",
    "\n",
    "    result_list = [x.recv() for x in pipe_list]\n",
    "    \n",
    "    for proc in jobs:\n",
    "        proc.join()\n",
    "    \n",
    "    #print(result_list)\n",
    "    return result_list"
   ]
  },
  {
   "cell_type": "markdown",
   "id": "45c74881-72c6-49d2-86c0-7a8f1eecbd15",
   "metadata": {},
   "source": [
    "- too many processes\n",
    "- modularize with batch sizes and variable amount of processes"
   ]
  },
  {
   "cell_type": "code",
   "execution_count": 46,
   "id": "79b87a89-0d84-496a-b4f6-927b307f0ca3",
   "metadata": {
    "tags": []
   },
   "outputs": [
    {
     "name": "stdout",
     "output_type": "stream",
     "text": [
      "15.3 s ± 229 ms per loop (mean ± std. dev. of 7 runs, 1 loop each)\n"
     ]
    }
   ],
   "source": [
    "%%timeit\n",
    "ret = main(tensor_collection, layer_nums, num_batches=3)"
   ]
  },
  {
   "cell_type": "code",
   "execution_count": 45,
   "id": "27db4f4b-6e6c-4f84-bf02-bab606c50e46",
   "metadata": {},
   "outputs": [
    {
     "data": {
      "text/plain": [
       "[{0: array([[[      45.22,      38.088,      38.088, ...,      38.088,      38.088,      45.866],\n",
       "          [     47.871,       49.98,       49.98, ...,       49.98,       49.98,      47.628],\n",
       "          [     47.871,       49.98,       49.98, ...,       49.98,       49.98,      47.628],\n",
       "          ...,\n",
       "          [     47.871,       49.98,       49.98, ...,       49.98,       49.98,      47.628],\n",
       "          [     47.871,       49.98,       49.98, ...,       49.98,       49.98,      47.628],\n",
       "          [     53.766,      53.147,      53.147, ...,      53.147,      53.147,      54.346]],\n",
       "  \n",
       "         [[     46.501,      54.978,      54.978, ...,      54.978,      54.978,      61.685],\n",
       "          [     50.997,      58.452,      58.452, ...,      58.452,      58.452,      68.676],\n",
       "          [     50.997,      58.452,      58.452, ...,      58.452,      58.452,      68.676],\n",
       "          ...,\n",
       "          [     50.997,      58.452,      58.452, ...,      58.452,      58.452,      68.676],\n",
       "          [     50.997,      58.452,      58.452, ...,      58.452,      58.452,      68.676],\n",
       "          [      55.76,      58.034,      58.034, ...,      58.034,      58.034,      65.264]],\n",
       "  \n",
       "         [[     1.0398,     0.66883,     0.66883, ...,     0.66883,     0.66883,       1.248],\n",
       "          [     1.0594,      1.7176,      1.7176, ...,      1.7176,      1.7176,      1.1103],\n",
       "          [     1.0594,      1.7176,      1.7176, ...,      1.7176,      1.7176,      1.1103],\n",
       "          ...,\n",
       "          [     1.0594,      1.7176,      1.7176, ...,      1.7176,      1.7176,      1.1103],\n",
       "          [     1.0594,      1.7176,      1.7176, ...,      1.7176,      1.7176,      1.1103],\n",
       "          [        255,       245.5,       245.5, ...,       245.5,       245.5,      253.15]],\n",
       "  \n",
       "         ...,\n",
       "  \n",
       "         [[     45.558,       44.43,       44.43, ...,       44.43,       44.43,      34.196],\n",
       "          [      41.07,      34.988,      34.988, ...,      34.988,      34.988,      25.393],\n",
       "          [      41.07,      34.988,      34.988, ...,      34.988,      34.988,      25.393],\n",
       "          ...,\n",
       "          [      41.07,      34.988,      34.988, ...,      34.988,      34.988,      25.393],\n",
       "          [      41.07,      34.988,      34.988, ...,      34.988,      34.988,      25.393],\n",
       "          [     32.116,      27.007,      27.007, ...,      27.007,      27.007,      23.147]],\n",
       "  \n",
       "         [[     14.462,      17.612,      17.612, ...,      17.612,      17.612,       20.69],\n",
       "          [     6.0915,      9.4572,      9.4572, ...,      9.4572,      9.4572,      19.674],\n",
       "          [     6.0915,      9.4572,      9.4572, ...,      9.4572,      9.4572,      19.674],\n",
       "          ...,\n",
       "          [     6.0915,      9.4572,      9.4572, ...,      9.4572,      9.4572,      19.674],\n",
       "          [     6.0915,      9.4572,      9.4572, ...,      9.4572,      9.4572,      19.674],\n",
       "          [     11.104,      12.103,      12.103, ...,      12.103,      12.103,      18.658]],\n",
       "  \n",
       "         [[      173.2,      153.74,      153.74, ...,      153.74,      153.74,      159.73],\n",
       "          [     189.88,      163.31,      163.31, ...,      163.31,      163.31,      140.31],\n",
       "          [     189.88,      163.31,      163.31, ...,      163.31,      163.31,      140.31],\n",
       "          ...,\n",
       "          [     189.88,      163.31,      163.31, ...,      163.31,      163.31,      140.31],\n",
       "          [     189.88,      163.31,      163.31, ...,      163.31,      163.31,      140.31],\n",
       "          [     141.45,       159.4,       159.4, ...,       159.4,       159.4,      155.82]]], dtype=float32),\n",
       "  1: array([[[     6.7243,      1.5132,      1.5132, ...,      1.5132,      1.5132,   0.0085396],\n",
       "          [     8.8618,      2.9459,      2.9459, ...,      2.9459,      2.9459,      0.8265],\n",
       "          [     8.8618,      2.9459,      2.9459, ...,      2.9459,      2.9459,      0.8265],\n",
       "          ...,\n",
       "          [     8.8618,      2.9459,      2.9459, ...,      2.9459,      2.9459,      0.8265],\n",
       "          [     8.8618,      2.9459,      2.9459, ...,      2.9459,      2.9459,      0.8265],\n",
       "          [     12.759,     0.54445,     0.54445, ...,     0.54445,     0.54445,      0.1406]],\n",
       "  \n",
       "         [[     54.272,      54.187,      54.187, ...,      54.187,      54.187,      4.5118],\n",
       "          [     60.258,       34.03,       34.03, ...,       34.03,       34.03,      4.5118],\n",
       "          [     60.258,       34.03,       34.03, ...,       34.03,       34.03,      4.5118],\n",
       "          ...,\n",
       "          [     60.258,       34.03,       34.03, ...,       34.03,       34.03,      4.5118],\n",
       "          [     60.258,       34.03,       34.03, ...,       34.03,       34.03,      4.5118],\n",
       "          [     72.151,      67.352,      67.352, ...,      67.352,      67.352,      4.5117]],\n",
       "  \n",
       "         [[   0.039673,      2.1335,      2.1335, ...,      2.1335,      2.1335,       86.45],\n",
       "          [     4.9375,      5.9963,      5.9963, ...,      5.9963,      5.9963,      74.316],\n",
       "          [     4.9375,      5.9963,      5.9963, ...,      5.9963,      5.9963,      74.316],\n",
       "          ...,\n",
       "          [     4.9375,      5.9963,      5.9963, ...,      5.9963,      5.9963,      74.316],\n",
       "          [     4.9375,      5.9963,      5.9963, ...,      5.9963,      5.9963,      74.316],\n",
       "          [    0.97105,      3.4977,      3.4977, ...,      3.4977,      3.4977,      68.844]],\n",
       "  \n",
       "         ...,\n",
       "  \n",
       "         [[     7.7663,      14.649,      14.649, ...,      14.649,      14.649,      65.059],\n",
       "          [     15.776,      12.264,      12.264, ...,      12.264,      12.264,      24.193],\n",
       "          [     15.776,      12.264,      12.264, ...,      12.264,      12.264,      24.193],\n",
       "          ...,\n",
       "          [     15.776,      12.264,      12.264, ...,      12.264,      12.264,      24.193],\n",
       "          [     15.776,      12.264,      12.264, ...,      12.264,      12.264,      24.193],\n",
       "          [     1.1941,      2.1027,      2.1027, ...,      2.1027,      2.1027,     0.20261]],\n",
       "  \n",
       "         [[     56.089,     0.34738,     0.34738, ...,     0.34738,     0.34738,    0.014864],\n",
       "          [      54.62,      2.3176,      2.3176, ...,      2.3176,      2.3176,     0.26633],\n",
       "          [      54.62,      2.3176,      2.3176, ...,      2.3176,      2.3176,     0.26633],\n",
       "          ...,\n",
       "          [      54.62,      2.3176,      2.3176, ...,      2.3176,      2.3176,     0.26633],\n",
       "          [      54.62,      2.3176,      2.3176, ...,      2.3176,      2.3176,     0.26633],\n",
       "          [     49.122,     0.35553,     0.35553, ...,     0.35553,     0.35553,  9.6514e-05]],\n",
       "  \n",
       "         [[     3.7272,      11.636,      11.636, ...,      11.636,      11.636,      6.0573],\n",
       "          [     5.1099,      12.615,      12.615, ...,      12.615,      12.615,      4.8117],\n",
       "          [     5.1099,      12.615,      12.615, ...,      12.615,      12.615,      4.8117],\n",
       "          ...,\n",
       "          [     5.1099,      12.615,      12.615, ...,      12.615,      12.615,      4.8117],\n",
       "          [     5.1099,      12.615,      12.615, ...,      12.615,      12.615,      4.8117],\n",
       "          [     2.5763,      12.753,      12.753, ...,      12.753,      12.753,      4.3216]]], dtype=float32)},\n",
       " {30: array([[[      6.281,      1.6841,      2.6888, ...,      3.9188,      2.8889,      4.2107],\n",
       "          [     219.39,      4.9175,      24.353, ...,      8.9312,      7.8021,      5.8216],\n",
       "          [     184.87,       40.12,      62.327, ...,      54.539,      134.47,      93.332],\n",
       "          ...,\n",
       "          [     12.884,      33.781,      34.393, ...,      64.871,      45.253,      11.383],\n",
       "          [     51.116,      78.091,      74.706, ...,      109.68,       68.43,      55.201],\n",
       "          [     6.9729,      8.6291,      7.8574, ...,      17.476,      7.5477,      12.831]],\n",
       "  \n",
       "         [[     26.402,      46.844,      35.544, ...,      44.423,      54.448,      71.257],\n",
       "          [    0.39155,   0.0026024,      17.761, ...,       34.28,      19.673,      13.757],\n",
       "          [    0.28419,      3.5639,     0.11862, ...,      7.0749,  8.5143e-05,      9.9135],\n",
       "          ...,\n",
       "          [     1.3466,     0.89339,     0.35549, ...,      15.588,      72.482,      188.13],\n",
       "          [    0.65251,     0.73272,      4.9774, ...,       2.652,      1.7185,      20.689],\n",
       "          [     20.892,      66.138,       76.06, ...,      54.187,      69.917,      76.742]],\n",
       "  \n",
       "         [[     17.074,      30.812,      39.575, ...,      81.196,      72.742,      70.762],\n",
       "          [     67.587,      13.615,      37.768, ...,      23.536,      12.066,      6.6527],\n",
       "          [     174.59,       33.55,      7.9124, ...,      3.0429,       9.834,      43.321],\n",
       "          ...,\n",
       "          [      55.49,      95.104,      56.058, ...,      62.647,      108.64,      116.14],\n",
       "          [     147.32,         255,      204.95, ...,      169.13,      81.434,      52.113],\n",
       "          [     56.606,      125.39,      109.31, ...,      82.158,      94.133,      88.222]],\n",
       "  \n",
       "         ...,\n",
       "  \n",
       "         [[     8.1102,      3.3013,      3.5389, ...,     0.94404,       1.908,    0.021517],\n",
       "          [     109.36,      31.255,      7.5091, ...,      17.923,      46.805,      70.186],\n",
       "          [      13.86,       7.212,      3.1018, ...,      65.396,      11.117,      65.882],\n",
       "          ...,\n",
       "          [     19.408,     0.69844,      6.9096, ...,      2.3478,      31.303,      52.835],\n",
       "          [   0.049727,      9.7597,      3.0744, ...,      13.629,    0.079165,      23.622],\n",
       "          [    0.45424,      4.3242,     0.19134, ...,      22.166,      5.8094,     0.37564]],\n",
       "  \n",
       "         [[     1.5663,      13.396,       8.652, ...,      5.7491,      5.9044,    0.010353],\n",
       "          [     2.0283,       28.41,      65.138, ...,       23.72,      26.784,      15.971],\n",
       "          [     3.3325,      1.4101,      2.2031, ...,       2.418,     0.59063,      1.9261],\n",
       "          ...,\n",
       "          [     0.2652,      2.2795,     0.10565, ...,      52.956,      4.1378,      5.4054],\n",
       "          [     16.748,      148.89,       77.12, ...,      183.88,      174.26,     0.96479],\n",
       "          [   0.054758,     0.60372,     0.14878, ...,      5.0056,      4.5417,      2.7556]],\n",
       "  \n",
       "         [[     28.768,      12.736,      11.566, ...,      4.3628,      3.7014,      15.484],\n",
       "          [     78.497,      34.754,      52.821, ...,      2.2538,       4.431,      16.392],\n",
       "          [     104.99,      27.445,      55.027, ...,       59.03,      87.287,      26.126],\n",
       "          ...,\n",
       "          [     21.173,      18.209,       23.73, ...,      8.6871,      27.989,      64.544],\n",
       "          [     15.952,      29.741,      18.692, ...,      18.017,      19.114,      57.163],\n",
       "          [     8.4675,      4.6201,      4.0502, ...,      12.824,      2.2688,       14.34]]], dtype=float32)},\n",
       " {60: array([[[     20.702,           0,      1.9758, ...,      1.6379,     0.97974,     0.42953],\n",
       "          [     89.658,       9.715,    0.014859, ...,      1.2256,     0.20519,       8.985],\n",
       "          [     63.487,      26.275,      13.043, ...,      14.852,      37.262,       95.37],\n",
       "          ...,\n",
       "          [     19.831,      18.149,      3.1543, ...,      2.2683,      8.2591,      18.428],\n",
       "          [     2.0196,      2.3717,       9.301, ...,      9.6548,      6.9329,    0.042808],\n",
       "          [     2.0015,     0.24002,   0.0067828, ...,    0.024205,     0.48397,     0.06687]],\n",
       "  \n",
       "         [[     2.4862,     0.12549,      4.3578, ...,      34.488,       9.879,      1.0633],\n",
       "          [     9.8199,      5.5052,     0.15293, ...,       44.65,        16.2,      5.2779],\n",
       "          [     6.1647,      8.7413,      1.9489, ...,      89.667,      66.053,    0.037455],\n",
       "          ...,\n",
       "          [     5.3097,    0.015628,      2.3873, ...,         255,      114.49,      2.9757],\n",
       "          [     1.7067,      2.2076,      8.3396, ...,      129.49,      133.44,     0.66815],\n",
       "          [   0.039443,      3.5331,      7.7283, ...,      20.157,      29.343,      2.5283]],\n",
       "  \n",
       "         [[     10.208,      2.7053,      10.995, ...,      11.526,      10.475,     0.43317],\n",
       "          [     85.071,      32.138,      6.5004, ...,     0.28499,     0.56748,      12.688],\n",
       "          [     87.342,      95.444,      144.02, ...,      144.41,      151.74,      146.19],\n",
       "          ...,\n",
       "          [     62.052,      28.313,      8.3461, ...,      63.095,      68.033,      48.589],\n",
       "          [     22.442,     0.94744,      2.4538, ...,      1.3273,      0.3771,      5.4229],\n",
       "          [     3.7053,     0.73937,      6.2184, ...,      13.093,      7.0018,    0.061703]],\n",
       "  \n",
       "         ...,\n",
       "  \n",
       "         [[    0.62955,      1.7324,     0.47162, ...,      1.1573,      11.866,      7.6756],\n",
       "          [     18.552,      13.404,      27.917, ...,      51.389,      67.803,      23.999],\n",
       "          [     39.575,      10.361,      20.499, ...,      116.38,      88.692,      28.784],\n",
       "          ...,\n",
       "          [     3.4154,      1.6139,      10.424, ...,     0.69991,      48.822,       57.48],\n",
       "          [  0.0097985,       7.653,      13.658, ...,      3.7532,    0.041522,      2.1558],\n",
       "          [     14.524,      3.3825,      4.3638, ...,      3.6188,      2.5347,      5.5804]],\n",
       "  \n",
       "         [[     49.299,      2.7977,      1.1692, ...,   0.0071077,     0.60993,      15.203],\n",
       "          [     40.323,      6.0839,       1.929, ...,      3.5937,      5.2797,      37.559],\n",
       "          [     10.509,     0.17886,      7.1793, ...,     0.89607,      4.4783,      1.7748],\n",
       "          ...,\n",
       "          [    0.37883,      8.2009,      15.254, ...,    0.022079,      2.8233,       1.953],\n",
       "          [     16.414,     0.15198,      1.1296, ...,      2.0316,      2.6347,      1.3854],\n",
       "          [     15.545,      1.3053,     0.14414, ...,     0.13097,  0.00013752,      7.6554]],\n",
       "  \n",
       "         [[   0.025157,     0.84062,      3.2281, ...,      17.934,      13.068,       11.57],\n",
       "          [     3.7052,       2.481,      7.2806, ...,      13.574,      15.424,       32.13],\n",
       "          [    0.16148,      1.3287,      3.1364, ...,       33.17,      7.1483,      4.2692],\n",
       "          ...,\n",
       "          [      3.822,      4.8593,      2.1797, ...,      95.355,      57.509,      5.0428],\n",
       "          [      5.794,      7.9064,     0.45536, ...,     0.49559,      19.697,      65.351],\n",
       "          [     7.1101,      9.6723,      4.2065, ...,      2.5146,  0.00084826,      8.8307]]], dtype=float32)}]"
      ]
     },
     "execution_count": 45,
     "metadata": {},
     "output_type": "execute_result"
    }
   ],
   "source": [
    "ret"
   ]
  },
  {
   "cell_type": "code",
   "execution_count": 20,
   "id": "8033d453-1fd8-4dd9-bec6-95f19dccdeb5",
   "metadata": {},
   "outputs": [
    {
     "data": {
      "text/plain": [
       "4"
      ]
     },
     "execution_count": 20,
     "metadata": {},
     "output_type": "execute_result"
    }
   ],
   "source": [
    "len(ret)"
   ]
  },
  {
   "cell_type": "code",
   "execution_count": 37,
   "id": "79f75d1f-988e-433e-a389-c65f6eb34fc0",
   "metadata": {},
   "outputs": [],
   "source": [
    "layer_nums = [0,1,30,60,90,104]\n",
    "batch_size = 3\n",
    "sub_lists = np.array_split(layer_nums, batch_size)"
   ]
  },
  {
   "cell_type": "code",
   "execution_count": 40,
   "id": "f49109f0-142c-4300-98d6-b4d8d5b83cbf",
   "metadata": {},
   "outputs": [
    {
     "data": {
      "text/plain": [
       "[array([0, 1]), array([30, 60]), array([ 90, 104])]"
      ]
     },
     "execution_count": 40,
     "metadata": {},
     "output_type": "execute_result"
    }
   ],
   "source": [
    "sub_lists"
   ]
  },
  {
   "cell_type": "code",
   "execution_count": 28,
   "id": "6c0171ae-1f20-4225-839a-856e98ced9d1",
   "metadata": {},
   "outputs": [],
   "source": [
    "test = tensor_collection[0][0][0].detach().numpy()"
   ]
  },
  {
   "cell_type": "code",
   "execution_count": 29,
   "id": "0911358f-3776-4b8c-b0bf-ff73b0910d79",
   "metadata": {},
   "outputs": [
    {
     "data": {
      "text/plain": [
       "(32, 448, 640)"
      ]
     },
     "execution_count": 29,
     "metadata": {},
     "output_type": "execute_result"
    }
   ],
   "source": [
    "test.shape"
   ]
  },
  {
   "cell_type": "code",
   "execution_count": 30,
   "id": "ac00dc63-b944-4011-8eee-ca0c6fd9144f",
   "metadata": {},
   "outputs": [],
   "source": [
    "test_bytes = test.tobytes()"
   ]
  },
  {
   "cell_type": "code",
   "execution_count": 31,
   "id": "dea38030-53bd-475e-8334-44d0d7cc9e60",
   "metadata": {},
   "outputs": [],
   "source": [
    "test_ret = np.frombuffer(test_bytes, dtype=np.float32)"
   ]
  },
  {
   "cell_type": "code",
   "execution_count": 32,
   "id": "d1bba264-7ee8-4597-979a-ad0b717a9f3b",
   "metadata": {},
   "outputs": [],
   "source": [
    "test_ret2 = np.reshape(test_ret, newshape=(32,448,640))"
   ]
  },
  {
   "cell_type": "code",
   "execution_count": 33,
   "id": "909ae350-0343-4b92-b77d-576ba7b2301d",
   "metadata": {},
   "outputs": [
    {
     "data": {
      "text/plain": [
       "(32, 448, 640)"
      ]
     },
     "execution_count": 33,
     "metadata": {},
     "output_type": "execute_result"
    }
   ],
   "source": [
    "test_ret2.shape"
   ]
  },
  {
   "cell_type": "code",
   "execution_count": null,
   "id": "2e3908e3-cffe-4b15-906c-6df0a844179e",
   "metadata": {},
   "outputs": [],
   "source": []
  },
  {
   "cell_type": "code",
   "execution_count": 38,
   "id": "23c0f723-7d7b-4531-ac65-559e5f4a73b8",
   "metadata": {},
   "outputs": [],
   "source": [
    "import numpy as np\n",
    "import pickle\n",
    "import matplotlib.pyplot as plt\n",
    "import multiprocess as multiprocessing\n",
    "import numba\n",
    "%matplotlib inline"
   ]
  },
  {
   "cell_type": "code",
   "execution_count": 2,
   "id": "2c11fbea-8104-4bab-b5a6-82c60bde4380",
   "metadata": {},
   "outputs": [],
   "source": [
    "# save pickle\n",
    "def save_pickle(filename, obj):\n",
    "    with open(str(filename), 'wb') as f:\n",
    "        pickle.dump(obj, f)\n",
    "    print(\"Object saved\")\n",
    "        \n",
    "# load pickle\n",
    "def load_pickle(filename):\n",
    "    with open(str(filename), 'rb') as f:\n",
    "        obj = pickle.load(f)\n",
    "    print(\"Object loaded\")\n",
    "    return obj"
   ]
  },
  {
   "cell_type": "code",
   "execution_count": 19,
   "id": "b7d903c6-a249-4f89-83fa-54d032ee495a",
   "metadata": {},
   "outputs": [
    {
     "name": "stdout",
     "output_type": "stream",
     "text": [
      "Object loaded\n"
     ]
    }
   ],
   "source": [
    "tensor_collection = load_pickle('tensor_collection_new.pkl')"
   ]
  },
  {
   "cell_type": "code",
   "execution_count": 43,
   "id": "c03a6817-ef6d-4722-ac8b-88751a5258d2",
   "metadata": {},
   "outputs": [],
   "source": [
    "def calc_grayscale(layer_imgs, norm_val, npad, n_img_max=64, row_break_after=8):\n",
    "    \"\"\"\n",
    "    Calculates normalized matrices in a list of 2D arrays and maps them to grayscale\n",
    "    Input: NumPy array with 3 dimensions (num_pic, width, height)\n",
    "    Output: modified NumPy array with same 3 dimensions\n",
    "    \"\"\"\n",
    "    \n",
    "    if layer_imgs.shape[0] <= 64:\n",
    "        n = layer_imgs.shape[0]\n",
    "    else:\n",
    "        n = n_img_max\n",
    "    \n",
    "    # normalize images\n",
    "    for i in range(n):\n",
    "        #img = test_map[i,:,:]\n",
    "        img = layer_imgs[i]\n",
    "        #print(\"TEST\")\n",
    "        v_min = np.asarray([img.min()], dtype=np.float32)\n",
    "        v_max = np.asarray([img.max()], dtype=np.float32)\n",
    "        img -= v_min\n",
    "        img /= (v_max - v_min)\n",
    "        img *= norm_val\n",
    "    \n",
    "    # pad batch\n",
    "    layer_imgs = np.pad(layer_imgs, pad_width=npad, mode='constant', constant_values=255)\n",
    "\n",
    "    # pad and concatenate\n",
    "    #padded_data = np.pad(data, pad_width=npad, mode='constant', constant_values=255)\n",
    "    rows = []\n",
    "    for i in range(0, n, row_break_after):\n",
    "        #concatenate arrays along \"w\" axis\n",
    "        row = np.concatenate(layer_imgs[i:i+row_break_after], axis=1)\n",
    "        rows.append(row)\n",
    "    \n",
    "    #concatenate arrays along \"h\" axis\n",
    "    return np.concatenate(rows, axis=0)\n",
    "\n",
    "\n",
    "def calc_grayscale_dataset(data_dict, layer_nums=[]):\n",
    "    \"\"\"\n",
    "    For whole data set as PyTorch Yolo tensor:\n",
    "    Calculates normalized matrices in a list of 2D arrays and maps them to grayscale\n",
    "    \n",
    "    Input: User-defined tensor collection library added to the Yolo Model as attribute\n",
    "    Output: Dictionary with layer number as key and corresponding normalized feature maps\n",
    "    \"\"\"\n",
    "    \n",
    "    ret_dict = {}\n",
    "    norm_val = np.asarray([255], dtype=np.float32) # normalization value of 255 (grayscale --> white)\n",
    "    padding_width = 5\n",
    "    npad = ((0,0), (padding_width, padding_width), (padding_width, padding_width))\n",
    "\n",
    "    if layer_nums:\n",
    "        keys = layer_nums\n",
    "    else:\n",
    "        keys = data_dict.keys()\n",
    "\n",
    "    for key in keys:\n",
    "        # get PyTorch Yolo tensor with 3 dimensions (num_pics, width, height)\n",
    "        # transform to NumPy array\n",
    "        ret_dict[key] = calc_grayscale(data_dict[key][0].detach().numpy(), norm_val, npad)\n",
    "        \n",
    "    \n",
    "    return ret_dict"
   ]
  },
  {
   "cell_type": "code",
   "execution_count": 33,
   "id": "a11d66b2-507d-4f07-97d3-839588e90363",
   "metadata": {},
   "outputs": [],
   "source": [
    "layer_nums = [0,1,2,30,60,90,100,104]\n",
    "layer_nums = []\n",
    "test = tensor_collection"
   ]
  },
  {
   "cell_type": "code",
   "execution_count": 44,
   "id": "1d2ece33-a49d-4e62-ad13-6fd38617d486",
   "metadata": {},
   "outputs": [
    {
     "ename": "TypingError",
     "evalue": "Failed in nopython mode pipeline (step: nopython frontend)\n\u001b[1m\u001b[1mUse of unsupported NumPy function 'numpy.pad' or unsupported use of the function.\n\u001b[1m\nFile \"..\\..\\..\\..\\..\\..\\AppData\\Local\\Temp\\ipykernel_16848\\3252689246.py\", line 26:\u001b[0m\n\u001b[1m<source missing, REPL/exec in use?>\u001b[0m\n\u001b[0m\n\u001b[0m\u001b[1mDuring: typing of get attribute at C:\\Users\\flfo\\AppData\\Local\\Temp\\ipykernel_16848\\3252689246.py (26)\u001b[0m\n\u001b[1m\nFile \"..\\..\\..\\..\\..\\..\\AppData\\Local\\Temp\\ipykernel_16848\\3252689246.py\", line 26:\u001b[0m\n\u001b[1m<source missing, REPL/exec in use?>\u001b[0m\n",
     "output_type": "error",
     "traceback": [
      "\u001b[1;31m---------------------------------------------------------------------------\u001b[0m",
      "\u001b[1;31mTypingError\u001b[0m                               Traceback (most recent call last)",
      "Cell \u001b[1;32mIn[44], line 1\u001b[0m\n\u001b[1;32m----> 1\u001b[0m ret \u001b[38;5;241m=\u001b[39m \u001b[43mcalc_grayscale_dataset\u001b[49m\u001b[43m(\u001b[49m\u001b[43mtest\u001b[49m\u001b[43m,\u001b[49m\u001b[43m \u001b[49m\u001b[43mlayer_nums\u001b[49m\u001b[38;5;241;43m=\u001b[39;49m\u001b[43mlayer_nums\u001b[49m\u001b[43m)\u001b[49m\n",
      "Cell \u001b[1;32mIn[43], line 62\u001b[0m, in \u001b[0;36mcalc_grayscale_dataset\u001b[1;34m(data_dict, layer_nums)\u001b[0m\n\u001b[0;32m     57\u001b[0m     keys \u001b[38;5;241m=\u001b[39m data_dict\u001b[38;5;241m.\u001b[39mkeys()\n\u001b[0;32m     59\u001b[0m \u001b[38;5;28;01mfor\u001b[39;00m key \u001b[38;5;129;01min\u001b[39;00m keys:\n\u001b[0;32m     60\u001b[0m     \u001b[38;5;66;03m# get PyTorch Yolo tensor with 3 dimensions (num_pics, width, height)\u001b[39;00m\n\u001b[0;32m     61\u001b[0m     \u001b[38;5;66;03m# transform to NumPy array\u001b[39;00m\n\u001b[1;32m---> 62\u001b[0m     ret_dict[key] \u001b[38;5;241m=\u001b[39m \u001b[43mcalc_grayscale\u001b[49m\u001b[43m(\u001b[49m\u001b[43mdata_dict\u001b[49m\u001b[43m[\u001b[49m\u001b[43mkey\u001b[49m\u001b[43m]\u001b[49m\u001b[43m[\u001b[49m\u001b[38;5;241;43m0\u001b[39;49m\u001b[43m]\u001b[49m\u001b[38;5;241;43m.\u001b[39;49m\u001b[43mdetach\u001b[49m\u001b[43m(\u001b[49m\u001b[43m)\u001b[49m\u001b[38;5;241;43m.\u001b[39;49m\u001b[43mnumpy\u001b[49m\u001b[43m(\u001b[49m\u001b[43m)\u001b[49m\u001b[43m,\u001b[49m\u001b[43m \u001b[49m\u001b[43mnorm_val\u001b[49m\u001b[43m,\u001b[49m\u001b[43m \u001b[49m\u001b[43mnpad\u001b[49m\u001b[43m)\u001b[49m\n\u001b[0;32m     65\u001b[0m \u001b[38;5;28;01mreturn\u001b[39;00m ret_dict\n",
      "File \u001b[1;32m~\\Anaconda3\\envs\\CNN_Vis\\lib\\site-packages\\numba\\core\\dispatcher.py:468\u001b[0m, in \u001b[0;36m_DispatcherBase._compile_for_args\u001b[1;34m(self, *args, **kws)\u001b[0m\n\u001b[0;32m    464\u001b[0m         msg \u001b[38;5;241m=\u001b[39m (\u001b[38;5;124mf\u001b[39m\u001b[38;5;124m\"\u001b[39m\u001b[38;5;132;01m{\u001b[39;00m\u001b[38;5;28mstr\u001b[39m(e)\u001b[38;5;241m.\u001b[39mrstrip()\u001b[38;5;132;01m}\u001b[39;00m\u001b[38;5;124m \u001b[39m\u001b[38;5;130;01m\\n\u001b[39;00m\u001b[38;5;130;01m\\n\u001b[39;00m\u001b[38;5;124mThis error may have been caused \u001b[39m\u001b[38;5;124m\"\u001b[39m\n\u001b[0;32m    465\u001b[0m                \u001b[38;5;124mf\u001b[39m\u001b[38;5;124m\"\u001b[39m\u001b[38;5;124mby the following argument(s):\u001b[39m\u001b[38;5;130;01m\\n\u001b[39;00m\u001b[38;5;132;01m{\u001b[39;00margs_str\u001b[38;5;132;01m}\u001b[39;00m\u001b[38;5;130;01m\\n\u001b[39;00m\u001b[38;5;124m\"\u001b[39m)\n\u001b[0;32m    466\u001b[0m         e\u001b[38;5;241m.\u001b[39mpatch_message(msg)\n\u001b[1;32m--> 468\u001b[0m     \u001b[43merror_rewrite\u001b[49m\u001b[43m(\u001b[49m\u001b[43me\u001b[49m\u001b[43m,\u001b[49m\u001b[43m \u001b[49m\u001b[38;5;124;43m'\u001b[39;49m\u001b[38;5;124;43mtyping\u001b[39;49m\u001b[38;5;124;43m'\u001b[39;49m\u001b[43m)\u001b[49m\n\u001b[0;32m    469\u001b[0m \u001b[38;5;28;01mexcept\u001b[39;00m errors\u001b[38;5;241m.\u001b[39mUnsupportedError \u001b[38;5;28;01mas\u001b[39;00m e:\n\u001b[0;32m    470\u001b[0m     \u001b[38;5;66;03m# Something unsupported is present in the user code, add help info\u001b[39;00m\n\u001b[0;32m    471\u001b[0m     error_rewrite(e, \u001b[38;5;124m'\u001b[39m\u001b[38;5;124munsupported_error\u001b[39m\u001b[38;5;124m'\u001b[39m)\n",
      "File \u001b[1;32m~\\Anaconda3\\envs\\CNN_Vis\\lib\\site-packages\\numba\\core\\dispatcher.py:409\u001b[0m, in \u001b[0;36m_DispatcherBase._compile_for_args.<locals>.error_rewrite\u001b[1;34m(e, issue_type)\u001b[0m\n\u001b[0;32m    407\u001b[0m     \u001b[38;5;28;01mraise\u001b[39;00m e\n\u001b[0;32m    408\u001b[0m \u001b[38;5;28;01melse\u001b[39;00m:\n\u001b[1;32m--> 409\u001b[0m     \u001b[38;5;28;01mraise\u001b[39;00m e\u001b[38;5;241m.\u001b[39mwith_traceback(\u001b[38;5;28;01mNone\u001b[39;00m)\n",
      "\u001b[1;31mTypingError\u001b[0m: Failed in nopython mode pipeline (step: nopython frontend)\n\u001b[1m\u001b[1mUse of unsupported NumPy function 'numpy.pad' or unsupported use of the function.\n\u001b[1m\nFile \"..\\..\\..\\..\\..\\..\\AppData\\Local\\Temp\\ipykernel_16848\\3252689246.py\", line 26:\u001b[0m\n\u001b[1m<source missing, REPL/exec in use?>\u001b[0m\n\u001b[0m\n\u001b[0m\u001b[1mDuring: typing of get attribute at C:\\Users\\flfo\\AppData\\Local\\Temp\\ipykernel_16848\\3252689246.py (26)\u001b[0m\n\u001b[1m\nFile \"..\\..\\..\\..\\..\\..\\AppData\\Local\\Temp\\ipykernel_16848\\3252689246.py\", line 26:\u001b[0m\n\u001b[1m<source missing, REPL/exec in use?>\u001b[0m\n"
     ]
    }
   ],
   "source": [
    "ret = calc_grayscale_dataset(test, layer_nums=layer_nums)"
   ]
  },
  {
   "cell_type": "code",
   "execution_count": 36,
   "id": "987812fd-4696-4f19-98a0-2e034c91780b",
   "metadata": {},
   "outputs": [
    {
     "data": {
      "text/plain": [
       "(-0.5, 5199.5, 1831.5, -0.5)"
      ]
     },
     "execution_count": 36,
     "metadata": {},
     "output_type": "execute_result"
    },
    {
     "data": {
      "image/png": "[encoded data removed]",
      "text/plain": [
       "<Figure size 640x480 with 1 Axes>"
      ]
     },
     "metadata": {},
     "output_type": "display_data"
    }
   ],
   "source": [
    "plt.imshow(ret[0], cmap='gray')\n",
    "plt.axis('off')"
   ]
  },
  {
   "cell_type": "code",
   "execution_count": 42,
   "id": "b34d6947-fddd-4bc4-9f14-3a69a6efed6d",
   "metadata": {},
   "outputs": [
    {
     "name": "stdout",
     "output_type": "stream",
     "text": [
      "228 ms ± 8.11 ms per loop (mean ± std. dev. of 7 runs, 1 loop each)\n"
     ]
    }
   ],
   "source": [
    "%timeit ret = calc_grayscale_dataset(test, layer_nums=layer_nums)"
   ]
  },
  {
   "cell_type": "code",
   "execution_count": null,
   "id": "c9021b53-fe80-4ddd-8615-4c64e76ba137",
   "metadata": {},
   "outputs": [],
   "source": []
  }
 ],
 "metadata": {
  "kernelspec": {
   "display_name": "Python 3 (ipykernel)",
   "language": "python",
   "name": "python3"
  },
  "language_info": {
   "codemirror_mode": {
    "name": "ipython",
    "version": 3
   },
   "file_extension": ".py",
   "mimetype": "text/x-python",
   "name": "python",
   "nbconvert_exporter": "python",
   "pygments_lexer": "ipython3",
   "version": "3.9.15"
  }
 },
 "nbformat": 4,
 "nbformat_minor": 5
}
