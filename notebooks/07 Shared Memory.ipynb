{
 "cells": [
  {
   "cell_type": "markdown",
   "id": "5819c284-ea04-4c9f-9cf7-c4ebda63fb44",
   "metadata": {},
   "source": [
    "# **Shared Memory**"
   ]
  },
  {
   "cell_type": "code",
   "execution_count": 98,
   "id": "6159771f-3b7b-47ec-baad-feb33febc7e6",
   "metadata": {},
   "outputs": [],
   "source": [
    "import numpy as np\n",
    "import torch.multiprocessing as mp\n",
    "import pickle"
   ]
  },
  {
   "cell_type": "code",
   "execution_count": 99,
   "id": "9ea210f8-761f-4fd9-a491-bb51dc2e5fb1",
   "metadata": {},
   "outputs": [],
   "source": [
    "# save pickle\n",
    "def save_pickle(filename, obj):\n",
    "    with open(str(filename), 'wb') as f:\n",
    "        pickle.dump(obj, f)\n",
    "    print(\"Object saved\")\n",
    "        \n",
    "# load pickle\n",
    "def load_pickle(filename):\n",
    "    with open(str(filename), 'rb') as f:\n",
    "        obj = pickle.load(f)\n",
    "    print(\"Object loaded\")\n",
    "    return obj"
   ]
  },
  {
   "cell_type": "code",
   "execution_count": 100,
   "id": "661f6097-edde-4f3c-8e96-c8c7cc0d44b8",
   "metadata": {},
   "outputs": [
    {
     "name": "stdout",
     "output_type": "stream",
     "text": [
      "Object loaded\n",
      "Object loaded\n"
     ]
    }
   ],
   "source": [
    "#save_pickle('tensor_collection_new.pkl', tensor_collection)\n",
    "tensor_collection = load_pickle('tensor_collection_test_0.pkl')\n",
    "numpy_collection = load_pickle('tensor_collection_numpy.pkl')"
   ]
  },
  {
   "cell_type": "code",
   "execution_count": 15,
   "id": "03f4a2dd-f67a-4472-9ad7-08f88ceae778",
   "metadata": {},
   "outputs": [],
   "source": [
    "T1 = tensor_collection[(0,32,32)].detach().clone().cpu()"
   ]
  },
  {
   "cell_type": "code",
   "execution_count": 16,
   "id": "ff81ff92-e067-4feb-a3eb-4b7a8ee156c4",
   "metadata": {},
   "outputs": [
    {
     "data": {
      "text/plain": [
       "device(type='cpu')"
      ]
     },
     "execution_count": 16,
     "metadata": {},
     "output_type": "execute_result"
    }
   ],
   "source": [
    "T1.device"
   ]
  },
  {
   "cell_type": "code",
   "execution_count": 17,
   "id": "cafaa693-5043-4dea-afab-df8a2a9dc061",
   "metadata": {},
   "outputs": [],
   "source": [
    "T1np = T1.numpy()"
   ]
  },
  {
   "cell_type": "markdown",
   "id": "7be85a2f-a00b-482c-83ee-ac74011dbcff",
   "metadata": {},
   "source": [
    "### Display Image in Shared Memory\n",
    "- shape depends on set values in calculation functions (n_row * size_x, n_col * size_y)"
   ]
  },
  {
   "cell_type": "code",
   "execution_count": 27,
   "id": "52ee5b2e-7e05-4b9a-aeb1-81cc5f2f63fd",
   "metadata": {},
   "outputs": [
    {
     "name": "stdout",
     "output_type": "stream",
     "text": [
      "X: 900, Y: 1800, IMG: 1620000\n"
     ]
    }
   ],
   "source": [
    "n_row = 2\n",
    "n_col = 4\n",
    "size_x = 450\n",
    "size_y = 450\n",
    "x_dim = n_row * size_x\n",
    "y_dim = n_col * size_y\n",
    "img_size = x_dim * y_dim\n",
    "print(f\"X: {x_dim}, Y: {y_dim}, IMG: {img_size}\")"
   ]
  },
  {
   "cell_type": "code",
   "execution_count": 28,
   "id": "b260e767-e4d8-45eb-8165-8972bfe7909c",
   "metadata": {},
   "outputs": [
    {
     "name": "stdout",
     "output_type": "stream",
     "text": [
      "IMG SIZE: 1620000 Bytes \t 1582.03125 KB \t 1.544952392578125 MB\n"
     ]
    }
   ],
   "source": [
    "# uint8 grayscale --> 1 dim, each entry 8 bits = 1 Byte --> IMG_SIZE in Bytes\n",
    "print(f\"IMG SIZE: {img_size} Bytes \\t {img_size/1024} KB \\t {img_size/(1024**2)} MB\")"
   ]
  },
  {
   "cell_type": "markdown",
   "id": "9fb66fb5-c60c-4904-bd64-15a3f635d476",
   "metadata": {},
   "source": [
    "##### ***set shared memory to 2 MB???***"
   ]
  },
  {
   "cell_type": "code",
   "execution_count": 72,
   "id": "fced2e67-d915-45af-8c80-b85371f6fb80",
   "metadata": {},
   "outputs": [],
   "source": [
    "a = np.full((x_dim,y_dim), 255, dtype=np.uint8)"
   ]
  },
  {
   "cell_type": "code",
   "execution_count": 73,
   "id": "e027d6cf-8cdd-4504-a9f0-c69173cd8ea9",
   "metadata": {},
   "outputs": [
    {
     "data": {
      "text/plain": [
       "dtype('uint8')"
      ]
     },
     "execution_count": 73,
     "metadata": {},
     "output_type": "execute_result"
    }
   ],
   "source": [
    "a.dtype"
   ]
  },
  {
   "cell_type": "code",
   "execution_count": 74,
   "id": "8a686148-6fde-418e-b617-ca66919445ea",
   "metadata": {},
   "outputs": [],
   "source": [
    "from multiprocessing import shared_memory"
   ]
  },
  {
   "cell_type": "code",
   "execution_count": 77,
   "id": "15ecdc11-b49c-45d8-abde-aeefdd5ffc16",
   "metadata": {},
   "outputs": [],
   "source": [
    "shm = shared_memory.SharedMemory(create=True, size=5000000, name='test')"
   ]
  },
  {
   "cell_type": "code",
   "execution_count": 78,
   "id": "eddcf654-6daf-48ed-8bdf-a8cfbf56628f",
   "metadata": {},
   "outputs": [],
   "source": [
    "b = np.ndarray(a.shape, dtype=np.uint8, buffer=shm.buf)\n",
    "b[:] = a[:]"
   ]
  },
  {
   "cell_type": "code",
   "execution_count": 79,
   "id": "c80d72a8-e81d-4930-bbb3-a17134f72b51",
   "metadata": {},
   "outputs": [
    {
     "data": {
      "text/plain": [
       "'test'"
      ]
     },
     "execution_count": 79,
     "metadata": {},
     "output_type": "execute_result"
    }
   ],
   "source": [
    "shm.name"
   ]
  },
  {
   "cell_type": "markdown",
   "id": "78242085-8b67-4aca-baf8-0516ae994900",
   "metadata": {},
   "source": [
    "*\"Other\" Process*"
   ]
  },
  {
   "cell_type": "code",
   "execution_count": 80,
   "id": "5f29680c-319c-4d16-bd34-054be1edf6b6",
   "metadata": {},
   "outputs": [],
   "source": [
    "existing_shm = shared_memory.SharedMemory(name='test')"
   ]
  },
  {
   "cell_type": "code",
   "execution_count": 81,
   "id": "b3739c67-5fff-497e-8347-e6d452fc5536",
   "metadata": {},
   "outputs": [
    {
     "data": {
      "text/plain": [
       "(900, 1800)"
      ]
     },
     "execution_count": 81,
     "metadata": {},
     "output_type": "execute_result"
    }
   ],
   "source": [
    "a.shape"
   ]
  },
  {
   "cell_type": "code",
   "execution_count": 82,
   "id": "84fc4b35-98c5-464e-9ae4-19cbe3044996",
   "metadata": {},
   "outputs": [],
   "source": [
    "# shpae and dtype information necessary\n",
    "c = np.ndarray((900,1800), dtype=np.uint8, buffer=existing_shm.buf)"
   ]
  },
  {
   "cell_type": "code",
   "execution_count": 83,
   "id": "a42a4e51-4c1c-4c35-91ff-5b3ecfef0fbf",
   "metadata": {},
   "outputs": [
    {
     "data": {
      "text/plain": [
       "dtype('uint8')"
      ]
     },
     "execution_count": 83,
     "metadata": {},
     "output_type": "execute_result"
    }
   ],
   "source": [
    "c.dtype"
   ]
  },
  {
   "cell_type": "code",
   "execution_count": 85,
   "id": "3a52332e-a12f-4d33-8b8f-d449bf3bf039",
   "metadata": {},
   "outputs": [],
   "source": [
    "c[0,0] = 0"
   ]
  },
  {
   "cell_type": "code",
   "execution_count": 86,
   "id": "f16a35ae-53d4-4d30-bf80-41de96f9f0e7",
   "metadata": {},
   "outputs": [
    {
     "data": {
      "text/plain": [
       "array([[  0, 255, 255, ..., 255, 255, 255],\n",
       "       [255, 255, 255, ..., 255, 255, 255],\n",
       "       [255, 255, 255, ..., 255, 255, 255],\n",
       "       ...,\n",
       "       [255, 255, 255, ..., 255, 255, 255],\n",
       "       [255, 255, 255, ..., 255, 255, 255],\n",
       "       [255, 255, 255, ..., 255, 255, 255]], dtype=uint8)"
      ]
     },
     "execution_count": 86,
     "metadata": {},
     "output_type": "execute_result"
    }
   ],
   "source": [
    "b"
   ]
  },
  {
   "cell_type": "code",
   "execution_count": 76,
   "id": "6e6cf42b-e507-44f1-893b-a7dbe2533614",
   "metadata": {},
   "outputs": [],
   "source": [
    "existing_shm.close()\n",
    "shm.close()\n",
    "shm.unlink()"
   ]
  },
  {
   "cell_type": "code",
   "execution_count": 88,
   "id": "57c90e44-8fd0-4a33-b1f0-a60cef64e53e",
   "metadata": {},
   "outputs": [],
   "source": [
    "lst = ['name', (900,1800), np.uint8]"
   ]
  },
  {
   "cell_type": "code",
   "execution_count": 90,
   "id": "c78e253e-093e-4b8f-a91b-35adbcf2562c",
   "metadata": {},
   "outputs": [],
   "source": [
    "byte = pickle.dumps(lst)"
   ]
  },
  {
   "cell_type": "code",
   "execution_count": 91,
   "id": "5e19ad89-e2c3-4af2-9629-a91d92b0044c",
   "metadata": {},
   "outputs": [],
   "source": [
    "tst = pickle.loads(byte)"
   ]
  },
  {
   "cell_type": "code",
   "execution_count": 93,
   "id": "972a734a-7b36-450a-8885-98367e70ef8d",
   "metadata": {},
   "outputs": [
    {
     "data": {
      "text/plain": [
       "numpy.uint8"
      ]
     },
     "execution_count": 93,
     "metadata": {},
     "output_type": "execute_result"
    }
   ],
   "source": [
    "tst[2]"
   ]
  },
  {
   "cell_type": "code",
   "execution_count": 94,
   "id": "a8242aab-6731-4748-b70c-14344a10d4d5",
   "metadata": {},
   "outputs": [],
   "source": [
    "t1, t2, t3 = tst"
   ]
  },
  {
   "cell_type": "code",
   "execution_count": 97,
   "id": "05d94550-d099-4f93-89e2-b6e99ade4670",
   "metadata": {},
   "outputs": [
    {
     "data": {
      "text/plain": [
       "numpy.uint8"
      ]
     },
     "execution_count": 97,
     "metadata": {},
     "output_type": "execute_result"
    }
   ],
   "source": [
    "t3"
   ]
  },
  {
   "cell_type": "markdown",
   "id": "0b5f6afb-3723-4294-84cc-4deb09ab8dd3",
   "metadata": {},
   "source": [
    "---\n",
    "\n",
    "# NumPy Dictionary"
   ]
  },
  {
   "cell_type": "code",
   "execution_count": 101,
   "id": "e9aaf704-1217-4a04-a672-1d272f1bd81e",
   "metadata": {},
   "outputs": [
    {
     "name": "stdout",
     "output_type": "stream",
     "text": [
      "Object loaded\n"
     ]
    },
    {
     "data": {
      "text/plain": [
       "{(0,\n",
       "  32,\n",
       "  32): array([[255., 255., 255., ..., 255., 255., 255.],\n",
       "        [255., 255., 255., ..., 255., 255., 255.],\n",
       "        [255., 255., 255., ..., 255., 255., 255.],\n",
       "        ...,\n",
       "        [255., 255., 255., ..., 255., 255., 255.],\n",
       "        [255., 255., 255., ..., 255., 255., 255.],\n",
       "        [255., 255., 255., ..., 255., 255., 255.]], dtype=float16),\n",
       " (1,\n",
       "  64,\n",
       "  64): array([[255., 255., 255., ..., 255., 255., 255.],\n",
       "        [255., 255., 255., ..., 255., 255., 255.],\n",
       "        [255., 255., 255., ..., 255., 255., 255.],\n",
       "        ...,\n",
       "        [255., 255., 255., ..., 255., 255., 255.],\n",
       "        [255., 255., 255., ..., 255., 255., 255.],\n",
       "        [255., 255., 255., ..., 255., 255., 255.]], dtype=float16),\n",
       " (2,\n",
       "  64,\n",
       "  64): array([[255., 255., 255., ..., 255., 255., 255.],\n",
       "        [255., 255., 255., ..., 255., 255., 255.],\n",
       "        [255., 255., 255., ..., 255., 255., 255.],\n",
       "        ...,\n",
       "        [255., 255., 255., ..., 255., 255., 255.],\n",
       "        [255., 255., 255., ..., 255., 255., 255.],\n",
       "        [255., 255., 255., ..., 255., 255., 255.]], dtype=float16),\n",
       " (24,\n",
       "  64,\n",
       "  512): array([[255., 255., 255., ..., 255., 255., 255.],\n",
       "        [255., 255., 255., ..., 255., 255., 255.],\n",
       "        [255., 255., 255., ..., 255., 255., 255.],\n",
       "        ...,\n",
       "        [255., 255., 255., ..., 255., 255., 255.],\n",
       "        [255., 255., 255., ..., 255., 255., 255.],\n",
       "        [255., 255., 255., ..., 255., 255., 255.]], dtype=float16),\n",
       " (59,\n",
       "  64,\n",
       "  128): array([[255., 255., 255., ..., 255., 255., 255.],\n",
       "        [255., 255., 255., ..., 255., 255., 255.],\n",
       "        [255., 255., 255., ..., 255., 255., 255.],\n",
       "        ...,\n",
       "        [255., 255., 255., ..., 255., 255., 255.],\n",
       "        [255., 255., 255., ..., 255., 255., 255.],\n",
       "        [255., 255., 255., ..., 255., 255., 255.]], dtype=float16),\n",
       " (84,\n",
       "  64,\n",
       "  128): array([[255., 255., 255., ..., 255., 255., 255.],\n",
       "        [255., 255., 255., ..., 255., 255., 255.],\n",
       "        [255., 255., 255., ..., 255., 255., 255.],\n",
       "        ...,\n",
       "        [255., 255., 255., ..., 255., 255., 255.],\n",
       "        [255., 255., 255., ..., 255., 255., 255.],\n",
       "        [255., 255., 255., ..., 255., 255., 255.]], dtype=float16),\n",
       " (99,\n",
       "  64,\n",
       "  256): array([[255., 255., 255., ..., 255., 255., 255.],\n",
       "        [255., 255., 255., ..., 255., 255., 255.],\n",
       "        [255., 255., 255., ..., 255., 255., 255.],\n",
       "        ...,\n",
       "        [255., 255., 255., ..., 255., 255., 255.],\n",
       "        [255., 255., 255., ..., 255., 255., 255.],\n",
       "        [255., 255., 255., ..., 255., 255., 255.]], dtype=float16),\n",
       " (104,\n",
       "  64,\n",
       "  1024): array([[255., 255., 255., ..., 255., 255., 255.],\n",
       "        [255., 255., 255., ..., 255., 255., 255.],\n",
       "        [255., 255., 255., ..., 255., 255., 255.],\n",
       "        ...,\n",
       "        [255., 255., 255., ..., 255., 255., 255.],\n",
       "        [255., 255., 255., ..., 255., 255., 255.],\n",
       "        [255., 255., 255., ..., 255., 255., 255.]], dtype=float16)}"
      ]
     },
     "execution_count": 101,
     "metadata": {},
     "output_type": "execute_result"
    }
   ],
   "source": [
    "numpy_collection = load_pickle('tensor_collection_numpy.pkl')\n",
    "numpy_collection"
   ]
  },
  {
   "cell_type": "code",
   "execution_count": 102,
   "id": "54d6f1df-bed0-453b-9f1d-39a88045fe72",
   "metadata": {},
   "outputs": [
    {
     "data": {
      "text/plain": [
       "[(0, 32, 32),\n",
       " (1, 64, 64),\n",
       " (2, 64, 64),\n",
       " (24, 64, 512),\n",
       " (59, 64, 128),\n",
       " (84, 64, 128),\n",
       " (99, 64, 256),\n",
       " (104, 64, 1024)]"
      ]
     },
     "execution_count": 102,
     "metadata": {},
     "output_type": "execute_result"
    }
   ],
   "source": [
    "key_vals = list(numpy_collection.keys())\n",
    "key_vals"
   ]
  },
  {
   "cell_type": "code",
   "execution_count": 110,
   "id": "6f9b24fa-c7a3-4432-b253-22d3626956b7",
   "metadata": {},
   "outputs": [
    {
     "name": "stdout",
     "output_type": "stream",
     "text": [
      "Object saved\n"
     ]
    }
   ],
   "source": [
    "save_pickle('key_vals.pkl', key_vals)"
   ]
  },
  {
   "cell_type": "code",
   "execution_count": 111,
   "id": "b8b76532-5d1c-42d3-a456-f3586d810fb6",
   "metadata": {},
   "outputs": [
    {
     "name": "stdout",
     "output_type": "stream",
     "text": [
      "Object loaded\n"
     ]
    },
    {
     "data": {
      "text/plain": [
       "[(0, 32, 32),\n",
       " (1, 64, 64),\n",
       " (2, 64, 64),\n",
       " (24, 64, 512),\n",
       " (59, 64, 128),\n",
       " (84, 64, 128),\n",
       " (99, 64, 256),\n",
       " (104, 64, 1024)]"
      ]
     },
     "execution_count": 111,
     "metadata": {},
     "output_type": "execute_result"
    }
   ],
   "source": [
    "key_vals_load = load_pickle('key_vals.pkl')\n",
    "key_vals_load"
   ]
  },
  {
   "cell_type": "code",
   "execution_count": 112,
   "id": "e8fbdcf6-2f58-4f15-8f23-bdc018c05b4a",
   "metadata": {},
   "outputs": [],
   "source": [
    "t1 = numpy_collection[key_vals[0]]\n",
    "t2 = numpy_collection[key_vals[1]]\n",
    "t3 = numpy_collection[key_vals[2]]\n",
    "t4 = numpy_collection[key_vals[3]]\n",
    "t5 = numpy_collection[key_vals[4]]\n",
    "t6 = numpy_collection[key_vals[5]]\n",
    "t7 = numpy_collection[key_vals[6]]\n",
    "t8 = numpy_collection[key_vals[7]]"
   ]
  },
  {
   "cell_type": "code",
   "execution_count": 121,
   "id": "4c700e33-6eb2-4601-a358-8caf16ae568f",
   "metadata": {},
   "outputs": [
    {
     "name": "stdout",
     "output_type": "stream",
     "text": [
      "Entry 1 \t Shape: (1832, 5200) \t Byte size: 19052800 \t dtype: float16\n",
      "Entry 2 \t Shape: (1872, 2640) \t Byte size: 9884160 \t dtype: float16\n",
      "Entry 3 \t Shape: (1872, 2640) \t Byte size: 9884160 \t dtype: float16\n",
      "Entry 4 \t Shape: (528, 720) \t Byte size: 760320 \t dtype: float16\n",
      "Entry 5 \t Shape: (304, 400) \t Byte size: 243200 \t dtype: float16\n",
      "Entry 6 \t Shape: (304, 400) \t Byte size: 243200 \t dtype: float16\n",
      "Entry 7 \t Shape: (192, 240) \t Byte size: 92160 \t dtype: float16\n",
      "Entry 8 \t Shape: (192, 240) \t Byte size: 92160 \t dtype: float16\n",
      "\n",
      " Total byte size: 40252160 Bytes \t 39308.75 KB \t 38.387451171875 MB\n"
     ]
    }
   ],
   "source": [
    "total_byte_size = 0\n",
    "for i, [key, array] in enumerate(numpy_collection.items()):\n",
    "    total_byte_size += array.nbytes\n",
    "    print(f\"Entry {i+1} \\t Shape: {array.shape} \\t Byte size: {array.nbytes} \\t dtype: {array.dtype}\")\n",
    "print(f\"\\n Total byte size: {total_byte_size} Bytes \\t {total_byte_size/1024} KB \\t {total_byte_size/(1024**2)} MB\")"
   ]
  },
  {
   "cell_type": "code",
   "execution_count": 125,
   "id": "9c110009-282c-4051-8d1f-b926fb7880ce",
   "metadata": {},
   "outputs": [
    {
     "data": {
      "text/plain": [
       "array([[255., 255., 255., ..., 255., 255., 255.],\n",
       "       [255., 255., 255., ..., 255., 255., 255.],\n",
       "       [255., 255., 255., ..., 255., 255., 255.],\n",
       "       ...,\n",
       "       [255., 255., 255., ..., 255., 255., 255.],\n",
       "       [255., 255., 255., ..., 255., 255., 255.],\n",
       "       [255., 255., 255., ..., 255., 255., 255.]], dtype=float16)"
      ]
     },
     "execution_count": 125,
     "metadata": {},
     "output_type": "execute_result"
    }
   ],
   "source": [
    "numpy_collection[(0, 32, 32)]"
   ]
  },
  {
   "cell_type": "code",
   "execution_count": 126,
   "id": "683262b6-5f47-4dd0-923e-ca5fd4dec100",
   "metadata": {},
   "outputs": [],
   "source": [
    "import copy"
   ]
  },
  {
   "cell_type": "code",
   "execution_count": 131,
   "id": "5b6e447c-5d82-40a1-a78f-e37c567b60a5",
   "metadata": {},
   "outputs": [
    {
     "name": "stdout",
     "output_type": "stream",
     "text": [
      "5.15 ms ± 107 µs per loop (mean ± std. dev. of 7 runs, 100 loops each)\n"
     ]
    }
   ],
   "source": [
    "%%timeit -n 100\n",
    "test = copy.deepcopy(numpy_collection)"
   ]
  },
  {
   "cell_type": "code",
   "execution_count": 132,
   "id": "11310c69-a5a7-4290-becc-c422a52fd109",
   "metadata": {},
   "outputs": [
    {
     "name": "stdout",
     "output_type": "stream",
     "text": [
      "1.91 ms ± 166 µs per loop (mean ± std. dev. of 7 runs, 100 loops each)\n"
     ]
    }
   ],
   "source": [
    "%%timeit -n 100\n",
    "for key, item in numpy_collection.items():\n",
    "    test[key][:] = numpy_collection[key][:]"
   ]
  },
  {
   "cell_type": "code",
   "execution_count": null,
   "id": "c9492e8a-241e-4a19-89e2-f83b76b563e7",
   "metadata": {},
   "outputs": [],
   "source": [
    "ret = True"
   ]
  },
  {
   "cell_type": "code",
   "execution_count": 133,
   "id": "258e22ec-8936-44bb-8392-7f4efa1fbcf1",
   "metadata": {},
   "outputs": [
    {
     "data": {
      "text/plain": [
       "True"
      ]
     },
     "execution_count": 133,
     "metadata": {},
     "output_type": "execute_result"
    }
   ],
   "source": [
    "ret is not False"
   ]
  },
  {
   "cell_type": "code",
   "execution_count": null,
   "id": "e4682150-77da-4577-8912-325fa6002861",
   "metadata": {},
   "outputs": [],
   "source": []
  },
  {
   "cell_type": "markdown",
   "id": "305bb14e-0075-4c97-98ce-fe5190936891",
   "metadata": {},
   "source": [
    "# JSON Parameters\n",
    "- not suitable because changing values do not change program structure\n",
    "- information only used for displaying, therefore changing values would lead to different display values for the same content shown\n",
    "- pickle better because it preserves the data structure and can not be altered via file editors"
   ]
  },
  {
   "cell_type": "code",
   "execution_count": 103,
   "id": "f8c3153e-de3b-4dfa-8d64-6247971794d4",
   "metadata": {},
   "outputs": [],
   "source": [
    "import json\n",
    "with open('data.json', 'w', encoding='utf-8') as f:\n",
    "    json.dump(key_vals, f, ensure_ascii=False, indent=4)"
   ]
  },
  {
   "cell_type": "code",
   "execution_count": 105,
   "id": "3c9a08f4-25d1-42d5-b80b-f276e98156a1",
   "metadata": {},
   "outputs": [],
   "source": [
    "with open('data.json', 'r', encoding='utf-8') as f:\n",
    "    ret = json.load(f, parse_int=int)"
   ]
  },
  {
   "cell_type": "code",
   "execution_count": 109,
   "id": "95cfeea2-a1f9-4732-8a0d-eb28fc7ca298",
   "metadata": {},
   "outputs": [
    {
     "data": {
      "text/plain": [
       "[[0, 32, 32],\n",
       " [1, 64, 64],\n",
       " [2, 64, 64],\n",
       " [24, 64, 512],\n",
       " [59, 64, 128],\n",
       " [84, 64, 128],\n",
       " [99, 64, 256],\n",
       " [104, 64, 1024]]"
      ]
     },
     "execution_count": 109,
     "metadata": {},
     "output_type": "execute_result"
    }
   ],
   "source": [
    "ret"
   ]
  },
  {
   "cell_type": "code",
   "execution_count": null,
   "id": "e749ec63-b96a-4bfa-aac7-af7cf692d9a1",
   "metadata": {},
   "outputs": [],
   "source": []
  }
 ],
 "metadata": {
  "kernelspec": {
   "display_name": "Python 3 (ipykernel)",
   "language": "python",
   "name": "python3"
  },
  "language_info": {
   "codemirror_mode": {
    "name": "ipython",
    "version": 3
   },
   "file_extension": ".py",
   "mimetype": "text/x-python",
   "name": "python",
   "nbconvert_exporter": "python",
   "pygments_lexer": "ipython3",
   "version": "3.9.15"
  }
 },
 "nbformat": 4,
 "nbformat_minor": 5
}
