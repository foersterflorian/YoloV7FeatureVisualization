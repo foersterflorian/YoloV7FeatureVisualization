{
 "cells": [
  {
   "cell_type": "markdown",
   "id": "8f06a2da-6c29-4c50-8f6d-5b6d7b261aa4",
   "metadata": {},
   "source": [
    "# **Visualization with Tensorflow self-trained Model**"
   ]
  },
  {
   "cell_type": "code",
   "execution_count": null,
   "id": "67c232b9-eda0-4e7b-886d-74bec7ee2578",
   "metadata": {},
   "outputs": [],
   "source": []
  }
 ],
 "metadata": {
  "kernelspec": {
   "display_name": "Python 3 (ipykernel)",
   "language": "python",
   "name": "python3"
  },
  "language_info": {
   "codemirror_mode": {
    "name": "ipython",
    "version": 3
   },
   "file_extension": ".py",
   "mimetype": "text/x-python",
   "name": "python",
   "nbconvert_exporter": "python",
   "pygments_lexer": "ipython3",
   "version": "3.9.15"
  }
 },
 "nbformat": 4,
 "nbformat_minor": 5
}
